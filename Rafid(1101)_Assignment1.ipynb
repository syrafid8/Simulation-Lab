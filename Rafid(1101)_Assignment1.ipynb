{
  "nbformat": 4,
  "nbformat_minor": 0,
  "metadata": {
    "colab": {
      "provenance": []
    },
    "kernelspec": {
      "name": "python3",
      "display_name": "Python 3"
    },
    "language_info": {
      "name": "python"
    }
  },
  "cells": [
    {
      "cell_type": "markdown",
      "source": [
        "# Task: Perform the Chi-square test using the dataset [45, 35, 25] and check if it fits a uniform distribution."
      ],
      "metadata": {
        "id": "nP0FsGIYh2rI"
      }
    },
    {
      "cell_type": "markdown",
      "source": [
        "# Lab Report Summary:\n",
        "The Chi-square goodness-of-fit test is a statistical hypothesis test used to determine whether a variable is likely to come from a specified distribution or not. It compares the observed frequencies (the data we collected) against the expected frequencies (the frequencies we would expect if the data perfectly matched the hypothesized distribution).Null Hypothesis ($H_0$): The observed data fits the uniform distribution.Alternative Hypothesis ($H_a$): The observed data does not fit the uniform distribution."
      ],
      "metadata": {
        "id": "toBqCJ_riD_W"
      }
    },
    {
      "cell_type": "code",
      "source": [
        "import numpy as np\n",
        "import scipy.stats as stats\n",
        "import matplotlib.pyplot as plt\n",
        "import pandas as pd"
      ],
      "metadata": {
        "id": "egiaUo-ldK7_"
      },
      "execution_count": 7,
      "outputs": []
    },
    {
      "cell_type": "code",
      "source": [
        "# 1. Observed data\n",
        "obs_1 = np.array([45, 35, 25])\n",
        "categories_1 = ['Category 1', 'Category 2', 'Category 3']\n",
        "\n",
        "# 2. Expected frequencies (assuming uniform distribution)\n",
        "total_1 = np.sum(obs_1)\n",
        "# For a uniform distribution, each category has an equal expected share\n",
        "expected_1 = np.full_like(obs_1, total_1 / len(obs_1))\n",
        "\n",
        "# 3. Perform the Chi-square test\n",
        "# We can use scipy.stats.chisquare.\n",
        "# If f_exp is not provided, it defaults to a uniform distribution test.\n",
        "chi2_stat_1, p_value_1 = stats.chisquare(f_obs=obs_1)\n",
        "\n",
        "# 4. Degrees of freedom\n",
        "df_1 = len(obs_1) - 1\n",
        "\n",
        "# 5. Critical value\n",
        "critical_value_1 = stats.chi2.ppf(1 - ALPHA, df_1)"
      ],
      "metadata": {
        "id": "u-nBvb0EdZlO"
      },
      "execution_count": 3,
      "outputs": []
    },
    {
      "cell_type": "code",
      "source": [
        "# Create a DataFrame for the table\n",
        "table_1 = pd.DataFrame({\n",
        "    'Category': categories_1,\n",
        "    'Observed (O)': obs_1,\n",
        "    'Expected (E)': expected_1\n",
        "})\n",
        "print(\"--- Assignment 1 Table ---\")\n",
        "print(table_1.to_markdown(index=False))"
      ],
      "metadata": {
        "colab": {
          "base_uri": "https://localhost:8080/"
        },
        "id": "Ok66dSPFdaWh",
        "outputId": "4704fd32-1c79-473d-aaf6-9c110038f1c6"
      },
      "execution_count": 4,
      "outputs": [
        {
          "output_type": "stream",
          "name": "stdout",
          "text": [
            "--- Assignment 1 Table ---\n",
            "| Category   |   Observed (O) |   Expected (E) |\n",
            "|:-----------|---------------:|---------------:|\n",
            "| Category 1 |             45 |             35 |\n",
            "| Category 2 |             35 |             35 |\n",
            "| Category 3 |             25 |             35 |\n"
          ]
        }
      ]
    },
    {
      "cell_type": "code",
      "source": [
        "# Print the results\n",
        "print(\"\\n--- Assignment 1 Results ---\")\n",
        "print(f\"Significance Level (alpha): {ALPHA}\")\n",
        "print(f\"Chi-square Statistic (χ²): {chi2_stat_1:.4f}\")\n",
        "print(f\"Degrees of Freedom (df): {df_1}\")\n",
        "print(f\"P-value: {p_value_1:.4f}\")\n",
        "print(f\"Critical Value: {critical_value_1:.4f}\")\n",
        "\n",
        "# 5. Conclusion\n",
        "print(\"\\n--- Conclusion ---\")\n",
        "if p_value_1 < ALPHA:\n",
        "    print(f\"P-value ({p_value_1:.4f}) is LESS than alpha ({ALPHA}).\")\n",
        "    print(\"We REJECT the null hypothesis.\")\n",
        "    print(\"Conclusion: The observed data does NOT fit a uniform distribution.\")\n",
        "else:\n",
        "    print(f\"P-value ({p_value_1:.4f}) is GREATER than alpha ({ALPHA}).\")\n",
        "    print(\"We FAIL to reject the null hypothesis.\")\n",
        "    print(\"Conclusion: The observed data is consistent with a uniform distribution.\")"
      ],
      "metadata": {
        "colab": {
          "base_uri": "https://localhost:8080/"
        },
        "id": "Gck_BD0rdcgZ",
        "outputId": "0f5d08e1-283a-44ac-fd10-43abbbd32fff"
      },
      "execution_count": 5,
      "outputs": [
        {
          "output_type": "stream",
          "name": "stdout",
          "text": [
            "\n",
            "--- Assignment 1 Results ---\n",
            "Significance Level (alpha): 0.05\n",
            "Chi-square Statistic (χ²): 5.7143\n",
            "Degrees of Freedom (df): 2\n",
            "P-value: 0.0574\n",
            "Critical Value: 5.9915\n",
            "\n",
            "--- Conclusion ---\n",
            "P-value (0.0574) is GREATER than alpha (0.05).\n",
            "We FAIL to reject the null hypothesis.\n",
            "Conclusion: The observed data is consistent with a uniform distribution.\n"
          ]
        }
      ]
    },
    {
      "cell_type": "code",
      "source": [
        "# Plotting the results\n",
        "plt.figure(figsize=(8, 6))\n",
        "x_axis = np.arange(len(categories_1))\n",
        "\n",
        "plt.bar(x_axis - 0.2, obs_1, width=0.4, label='Observed', alpha=0.8)\n",
        "plt.bar(x_axis + 0.2, expected_1, width=0.4, label='Expected', alpha=0.8)\n",
        "\n",
        "plt.xticks(x_axis, categories_1)\n",
        "plt.xlabel('Categories')\n",
        "plt.ylabel('Frequencies')\n",
        "plt.title('Assignment 1: Observed vs Expected Frequencies')\n",
        "plt.legend()\n",
        "plt.grid(axis='y', linestyle='--', alpha=0.7)\n",
        "plt.show()"
      ],
      "metadata": {
        "colab": {
          "base_uri": "https://localhost:8080/",
          "height": 564
        },
        "id": "lls26cwNdye2",
        "outputId": "0ff00aff-c817-4007-ad38-77b97b2a4c47"
      },
      "execution_count": 6,
      "outputs": [
        {
          "output_type": "display_data",
          "data": {
            "text/plain": [
              "<Figure size 800x600 with 1 Axes>"
            ],
            "image/png": "[encoded data removed]"
          },
          "metadata": {}
        }
      ]
    }
  ]
}