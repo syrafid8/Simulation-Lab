{
  "nbformat": 4,
  "nbformat_minor": 0,
  "metadata": {
    "colab": {
      "provenance": []
    },
    "kernelspec": {
      "name": "python3",
      "display_name": "Python 3"
    },
    "language_info": {
      "name": "python"
    }
  },
  "cells": [
    {
      "cell_type": "code",
      "execution_count": 1,
      "metadata": {
        "id": "LQGz-vEaWPGs"
      },
      "outputs": [],
      "source": [
        "import numpy as np\n",
        "import matplotlib.pyplot as plt\n",
        "from scipy import stats"
      ]
    },
    {
      "cell_type": "code",
      "source": [
        "k = 1   #last two digits of my id 01\n",
        "np.random.seed(0)\n",
        "\n",
        "data = 60 + np.random.randint(0, 15, size=12) + (k % 5)\n",
        "print(\"Sample Data:\", data)"
      ],
      "metadata": {
        "colab": {
          "base_uri": "https://localhost:8080/"
        },
        "id": "PGuKoFx-WsGo",
        "outputId": "e6c6936b-72a2-420e-c26c-acdc519f26a7"
      },
      "execution_count": 8,
      "outputs": [
        {
          "output_type": "stream",
          "name": "stdout",
          "text": [
            "Sample Data: [73 66 61 64 72 64 68 70 64 66 63 65]\n"
          ]
        }
      ]
    },
    {
      "cell_type": "code",
      "source": [
        "mu = 65\n",
        "\n",
        "t_stat, p_value = stats.ttest_1samp(data, mu)\n",
        "sample_mean = np.mean(data)\n",
        "df = len(data) - 1\n",
        "\n",
        "print(f\"\\nSample Mean = {sample_mean:.2f}\")\n",
        "print(f\"Hypothesized Mean = {mu}\")\n",
        "print(f\"t-Statistic = {t_stat:.4f}\")\n",
        "print(f\"Degrees of Freedom = {df}\")\n",
        "print(f\"p-value = {p_value:.4f}\")"
      ],
      "metadata": {
        "colab": {
          "base_uri": "https://localhost:8080/"
        },
        "id": "bJnU5-uLXQRQ",
        "outputId": "6b0380cf-e9e0-4712-f6f0-838f4f9c1a55"
      },
      "execution_count": 3,
      "outputs": [
        {
          "output_type": "stream",
          "name": "stdout",
          "text": [
            "\n",
            "Sample Mean = 66.33\n",
            "Hypothesized Mean = 65\n",
            "t-Statistic = 1.2480\n",
            "Degrees of Freedom = 11\n",
            "p-value = 0.2379\n"
          ]
        }
      ]
    },
    {
      "cell_type": "code",
      "source": [
        "confidence = 0.95\n",
        "se = stats.sem(data)  # standard error\n",
        "ci = stats.t.interval(confidence, df, loc=sample_mean, scale=se)\n",
        "\n",
        "print(f\"95% Confidence Interval for mean: {ci}\")"
      ],
      "metadata": {
        "colab": {
          "base_uri": "https://localhost:8080/"
        },
        "id": "kLP4QNl5XYHw",
        "outputId": "a5082904-a147-4fdc-b551-8359c6e9fbd0"
      },
      "execution_count": 4,
      "outputs": [
        {
          "output_type": "stream",
          "name": "stdout",
          "text": [
            "95% Confidence Interval for mean: (np.float64(63.98186714282707), np.float64(68.68479952383959))\n"
          ]
        }
      ]
    },
    {
      "cell_type": "code",
      "source": [
        "alpha = 0.05\n",
        "if p_value < alpha:\n",
        "    print(\"Reject H0: The population mean is significantly different from 65.\")\n",
        "else:\n",
        "    print(\"Fail to reject H0: Not enough evidence that mean is different from 65.\")"
      ],
      "metadata": {
        "colab": {
          "base_uri": "https://localhost:8080/"
        },
        "id": "qvcSJ_bvXZjA",
        "outputId": "8b9445c9-996d-467d-b3eb-59f17cf18c7e"
      },
      "execution_count": 5,
      "outputs": [
        {
          "output_type": "stream",
          "name": "stdout",
          "text": [
            "Fail to reject H0: Not enough evidence that mean is different from 65.\n"
          ]
        }
      ]
    },
    {
      "cell_type": "code",
      "source": [
        "plt.figure(figsize=(8,6))\n",
        "plt.errorbar(1, sample_mean, yerr=se, fmt='o', color='blue', label=\"Sample Mean ± SE\")\n",
        "plt.axhline(y=mu, color='red', linestyle='--', label=\"Hypothesized Mean = 65\")\n",
        "plt.xticks([])\n",
        "plt.ylabel(\"Exam Score\")\n",
        "plt.title(\"One-Sample t-Test Visualization (ID = 01)\")\n",
        "plt.legend()\n",
        "plt.show()"
      ],
      "metadata": {
        "colab": {
          "base_uri": "https://localhost:8080/",
          "height": 521
        },
        "id": "5EDKw3KSXdf4",
        "outputId": "bffe5992-2429-4398-e5fa-981f2c7a8fba"
      },
      "execution_count": 6,
      "outputs": [
        {
          "output_type": "display_data",
          "data": {
            "text/plain": [
              "<Figure size 800x600 with 1 Axes>"
            ],
            "image/png": "[encoded data removed]"
          },
          "metadata": {}
        }
      ]
    }
  ]
}